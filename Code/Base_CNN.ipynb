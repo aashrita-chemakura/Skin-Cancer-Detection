{
 "cells": [
  {
   "cell_type": "code",
   "execution_count": 1,
   "metadata": {
    "colab": {
     "base_uri": "https://localhost:8080/",
     "height": 35
    },
    "colab_type": "code",
    "id": "HeBr3U9dzBBg",
    "outputId": "e9658d5f-c4d8-478c-ddcf-d687edddd7e5"
   },
   "outputs": [
    {
     "name": "stdout",
     "output_type": "stream",
     "text": [
      "WARNING:tensorflow:From C:\\Users\\chara_eoccfea\\AppData\\Local\\Packages\\PythonSoftwareFoundation.Python.3.11_qbz5n2kfra8p0\\LocalCache\\local-packages\\Python311\\site-packages\\keras\\src\\losses.py:2976: The name tf.losses.sparse_softmax_cross_entropy is deprecated. Please use tf.compat.v1.losses.sparse_softmax_cross_entropy instead.\n",
      "\n"
     ]
    }
   ],
   "source": [
    "import numpy as np\n",
    "import pandas as pd\n",
    "from sklearn.model_selection import train_test_split\n",
    "from tensorflow.keras.utils import to_categorical # convert to one-hot-encoding\n",
    "\n",
    "from tensorflow.keras.preprocessing.image import ImageDataGenerator\n",
    "from tensorflow.keras import layers\n",
    "from tensorflow.keras import Model\n",
    "from tensorflow.keras.optimizers import Adam\n",
    "from tensorflow.keras.callbacks import ReduceLROnPlateau\n",
    "import tensorflow as tf\n",
    "%matplotlib inline\n",
    "\n",
    "import matplotlib.pyplot as plt"
   ]
  },
  {
   "cell_type": "markdown",
   "metadata": {
    "colab_type": "text",
    "id": "M1BzjwNzUB1T"
   },
   "source": [
    "## Load In the Data"
   ]
  },
  {
   "cell_type": "code",
   "execution_count": 2,
   "metadata": {
    "colab": {},
    "colab_type": "code",
    "id": "F3zhcgJD4lhk"
   },
   "outputs": [],
   "source": [
    "skin_df = pd.read_csv('hmnist_64_64_RBG.csv')"
   ]
  },
  {
   "cell_type": "code",
   "execution_count": 3,
   "metadata": {
    "colab": {
     "base_uri": "https://localhost:8080/",
     "height": 247
    },
    "colab_type": "code",
    "id": "W-viELZ74uN2",
    "outputId": "44f1763e-1b74-4434-e99c-51e295052387"
   },
   "outputs": [
    {
     "data": {
      "text/html": [
       "<div>\n",
       "<style scoped>\n",
       "    .dataframe tbody tr th:only-of-type {\n",
       "        vertical-align: middle;\n",
       "    }\n",
       "\n",
       "    .dataframe tbody tr th {\n",
       "        vertical-align: top;\n",
       "    }\n",
       "\n",
       "    .dataframe thead th {\n",
       "        text-align: right;\n",
       "    }\n",
       "</style>\n",
       "<table border=\"1\" class=\"dataframe\">\n",
       "  <thead>\n",
       "    <tr style=\"text-align: right;\">\n",
       "      <th></th>\n",
       "      <th>0</th>\n",
       "      <th>1</th>\n",
       "      <th>2</th>\n",
       "      <th>3</th>\n",
       "      <th>4</th>\n",
       "      <th>5</th>\n",
       "      <th>6</th>\n",
       "      <th>7</th>\n",
       "      <th>8</th>\n",
       "      <th>9</th>\n",
       "      <th>...</th>\n",
       "      <th>12279</th>\n",
       "      <th>12280</th>\n",
       "      <th>12281</th>\n",
       "      <th>12282</th>\n",
       "      <th>12283</th>\n",
       "      <th>12284</th>\n",
       "      <th>12285</th>\n",
       "      <th>12286</th>\n",
       "      <th>12287</th>\n",
       "      <th>label</th>\n",
       "    </tr>\n",
       "  </thead>\n",
       "  <tbody>\n",
       "    <tr>\n",
       "      <th>0</th>\n",
       "      <td>191</td>\n",
       "      <td>152</td>\n",
       "      <td>194</td>\n",
       "      <td>191</td>\n",
       "      <td>153</td>\n",
       "      <td>195</td>\n",
       "      <td>192</td>\n",
       "      <td>149</td>\n",
       "      <td>192</td>\n",
       "      <td>194</td>\n",
       "      <td>...</td>\n",
       "      <td>185</td>\n",
       "      <td>154</td>\n",
       "      <td>180</td>\n",
       "      <td>186</td>\n",
       "      <td>156</td>\n",
       "      <td>184</td>\n",
       "      <td>182</td>\n",
       "      <td>152</td>\n",
       "      <td>173</td>\n",
       "      <td>2</td>\n",
       "    </tr>\n",
       "    <tr>\n",
       "      <th>1</th>\n",
       "      <td>24</td>\n",
       "      <td>13</td>\n",
       "      <td>23</td>\n",
       "      <td>24</td>\n",
       "      <td>14</td>\n",
       "      <td>28</td>\n",
       "      <td>37</td>\n",
       "      <td>24</td>\n",
       "      <td>46</td>\n",
       "      <td>61</td>\n",
       "      <td>...</td>\n",
       "      <td>26</td>\n",
       "      <td>15</td>\n",
       "      <td>29</td>\n",
       "      <td>27</td>\n",
       "      <td>15</td>\n",
       "      <td>28</td>\n",
       "      <td>24</td>\n",
       "      <td>13</td>\n",
       "      <td>25</td>\n",
       "      <td>2</td>\n",
       "    </tr>\n",
       "    <tr>\n",
       "      <th>2</th>\n",
       "      <td>185</td>\n",
       "      <td>129</td>\n",
       "      <td>140</td>\n",
       "      <td>192</td>\n",
       "      <td>136</td>\n",
       "      <td>151</td>\n",
       "      <td>198</td>\n",
       "      <td>142</td>\n",
       "      <td>156</td>\n",
       "      <td>198</td>\n",
       "      <td>...</td>\n",
       "      <td>152</td>\n",
       "      <td>120</td>\n",
       "      <td>138</td>\n",
       "      <td>144</td>\n",
       "      <td>113</td>\n",
       "      <td>123</td>\n",
       "      <td>115</td>\n",
       "      <td>81</td>\n",
       "      <td>84</td>\n",
       "      <td>2</td>\n",
       "    </tr>\n",
       "    <tr>\n",
       "      <th>3</th>\n",
       "      <td>24</td>\n",
       "      <td>11</td>\n",
       "      <td>19</td>\n",
       "      <td>36</td>\n",
       "      <td>19</td>\n",
       "      <td>30</td>\n",
       "      <td>64</td>\n",
       "      <td>38</td>\n",
       "      <td>50</td>\n",
       "      <td>91</td>\n",
       "      <td>...</td>\n",
       "      <td>27</td>\n",
       "      <td>13</td>\n",
       "      <td>16</td>\n",
       "      <td>25</td>\n",
       "      <td>12</td>\n",
       "      <td>16</td>\n",
       "      <td>24</td>\n",
       "      <td>9</td>\n",
       "      <td>14</td>\n",
       "      <td>2</td>\n",
       "    </tr>\n",
       "    <tr>\n",
       "      <th>4</th>\n",
       "      <td>138</td>\n",
       "      <td>94</td>\n",
       "      <td>117</td>\n",
       "      <td>158</td>\n",
       "      <td>113</td>\n",
       "      <td>138</td>\n",
       "      <td>178</td>\n",
       "      <td>133</td>\n",
       "      <td>161</td>\n",
       "      <td>191</td>\n",
       "      <td>...</td>\n",
       "      <td>140</td>\n",
       "      <td>106</td>\n",
       "      <td>118</td>\n",
       "      <td>108</td>\n",
       "      <td>77</td>\n",
       "      <td>92</td>\n",
       "      <td>67</td>\n",
       "      <td>40</td>\n",
       "      <td>55</td>\n",
       "      <td>2</td>\n",
       "    </tr>\n",
       "  </tbody>\n",
       "</table>\n",
       "<p>5 rows × 12289 columns</p>\n",
       "</div>"
      ],
      "text/plain": [
       "     0    1    2    3    4    5    6    7    8    9  ...  12279  12280  12281  \\\n",
       "0  191  152  194  191  153  195  192  149  192  194  ...    185    154    180   \n",
       "1   24   13   23   24   14   28   37   24   46   61  ...     26     15     29   \n",
       "2  185  129  140  192  136  151  198  142  156  198  ...    152    120    138   \n",
       "3   24   11   19   36   19   30   64   38   50   91  ...     27     13     16   \n",
       "4  138   94  117  158  113  138  178  133  161  191  ...    140    106    118   \n",
       "\n",
       "   12282  12283  12284  12285  12286  12287  label  \n",
       "0    186    156    184    182    152    173      2  \n",
       "1     27     15     28     24     13     25      2  \n",
       "2    144    113    123    115     81     84      2  \n",
       "3     25     12     16     24      9     14      2  \n",
       "4    108     77     92     67     40     55      2  \n",
       "\n",
       "[5 rows x 12289 columns]"
      ]
     },
     "execution_count": 3,
     "metadata": {},
     "output_type": "execute_result"
    }
   ],
   "source": [
    "skin_df.head()"
   ]
  },
  {
   "cell_type": "code",
   "execution_count": 4,
   "metadata": {
    "colab": {},
    "colab_type": "code",
    "id": "C1psqaTj45AM"
   },
   "outputs": [],
   "source": [
    "X = skin_df.drop(\"label\", axis=1).values\n",
    "label = skin_df[\"label\"].values"
   ]
  },
  {
   "cell_type": "code",
   "execution_count": 5,
   "metadata": {
    "colab": {
     "base_uri": "https://localhost:8080/",
     "height": 35
    },
    "colab_type": "code",
    "id": "1e2D7SCz5LQh",
    "outputId": "cb30d359-a2b0-4e0b-c501-6a3288c3ffb5"
   },
   "outputs": [
    {
     "data": {
      "text/plain": [
       "((10015, 12288), (10015,))"
      ]
     },
     "execution_count": 5,
     "metadata": {},
     "output_type": "execute_result"
    }
   ],
   "source": [
    "X.shape, label.shape"
   ]
  },
  {
   "cell_type": "markdown",
   "metadata": {
    "colab_type": "text",
    "id": "E3iU_vSjUIpn"
   },
   "source": [
    "## Scaling and Splitting Data into Train, Validation and Test set"
   ]
  },
  {
   "cell_type": "code",
   "execution_count": 6,
   "metadata": {
    "colab": {},
    "colab_type": "code",
    "id": "q25NL3-X5jry"
   },
   "outputs": [],
   "source": [
    "X_mean = np.mean(X)\n",
    "X_std = np.std(X)\n",
    "\n",
    "X = (X - X_mean)/X_std"
   ]
  },
  {
   "cell_type": "code",
   "execution_count": 7,
   "metadata": {
    "colab": {},
    "colab_type": "code",
    "id": "oGH8wMmy6Mew"
   },
   "outputs": [],
   "source": [
    "X_train_orig, X_test, y_train_orig, y_test = train_test_split(X, label, test_size=0.1,random_state=0)"
   ]
  },
  {
   "cell_type": "code",
   "execution_count": 8,
   "metadata": {
    "colab": {
     "base_uri": "https://localhost:8080/",
     "height": 35
    },
    "colab_type": "code",
    "id": "hU0BQ6c6B1tu",
    "outputId": "2a213eec-e04a-4bef-fd97-27321013c5a7"
   },
   "outputs": [
    {
     "data": {
      "text/plain": [
       "((9013, 12288), (1002, 12288), (9013,), (1002,))"
      ]
     },
     "execution_count": 8,
     "metadata": {},
     "output_type": "execute_result"
    }
   ],
   "source": [
    "X_train_orig.shape, X_test.shape, y_train_orig.shape, y_test.shape"
   ]
  },
  {
   "cell_type": "code",
   "execution_count": 9,
   "metadata": {
    "colab": {},
    "colab_type": "code",
    "id": "_WzFxSy1ByyY"
   },
   "outputs": [],
   "source": [
    "X_train, X_val, y_train, y_val = train_test_split(X_train_orig, y_train_orig, test_size=0.2, random_state=1)"
   ]
  },
  {
   "cell_type": "code",
   "execution_count": 10,
   "metadata": {
    "colab": {
     "base_uri": "https://localhost:8080/",
     "height": 35
    },
    "colab_type": "code",
    "id": "HiK1KmsMCF5B",
    "outputId": "731610d1-06ec-4df9-c9b5-867bf7a33138"
   },
   "outputs": [
    {
     "data": {
      "text/plain": [
       "((7210, 12288), (1803, 12288), (7210,), (1803,))"
      ]
     },
     "execution_count": 10,
     "metadata": {},
     "output_type": "execute_result"
    }
   ],
   "source": [
    "X_train.shape, X_val.shape, y_train.shape, y_val.shape"
   ]
  },
  {
   "cell_type": "markdown",
   "metadata": {
    "colab_type": "text",
    "id": "4Zl7b9mFURFJ"
   },
   "source": [
    "## Reshape the Data to Input in CNN"
   ]
  },
  {
   "cell_type": "code",
   "execution_count": 11,
   "metadata": {
    "colab": {},
    "colab_type": "code",
    "id": "mdbb6U1W6mx2"
   },
   "outputs": [],
   "source": [
    "X_train = X_train.reshape(X_train.shape[0], *(64, 64, 3))\n",
    "X_val = X_val.reshape(X_val.shape[0], *(64, 64, 3))\n",
    "X_test = X_test.reshape(X_test.shape[0], *(64, 64, 3))"
   ]
  },
  {
   "cell_type": "code",
   "execution_count": 12,
   "metadata": {
    "colab": {
     "base_uri": "https://localhost:8080/",
     "height": 35
    },
    "colab_type": "code",
    "id": "odlh2eEz629K",
    "outputId": "98c81273-d8af-43da-8aa6-eca193a59dbd"
   },
   "outputs": [
    {
     "data": {
      "text/plain": [
       "((7210, 64, 64, 3), (1803, 64, 64, 3), (1002, 64, 64, 3))"
      ]
     },
     "execution_count": 12,
     "metadata": {},
     "output_type": "execute_result"
    }
   ],
   "source": [
    "X_train.shape, X_val.shape, X_test.shape"
   ]
  },
  {
   "cell_type": "code",
   "execution_count": 13,
   "metadata": {
    "colab": {
     "base_uri": "https://localhost:8080/",
     "height": 35
    },
    "colab_type": "code",
    "id": "ToBfm6FCE82c",
    "outputId": "4289e6c7-c7e4-4562-dee2-ecaa11b6815c"
   },
   "outputs": [
    {
     "data": {
      "text/plain": [
       "(7210,)"
      ]
     },
     "execution_count": 13,
     "metadata": {},
     "output_type": "execute_result"
    }
   ],
   "source": [
    "y_train.shape"
   ]
  },
  {
   "cell_type": "code",
   "execution_count": 14,
   "metadata": {
    "colab": {},
    "colab_type": "code",
    "id": "bv1nE9AkBMXJ"
   },
   "outputs": [],
   "source": [
    "y_train = to_categorical(y_train)\n",
    "y_val = to_categorical(y_val)\n",
    "y_test = to_categorical(y_test)"
   ]
  },
  {
   "cell_type": "code",
   "execution_count": 15,
   "metadata": {
    "colab": {
     "base_uri": "https://localhost:8080/",
     "height": 35
    },
    "colab_type": "code",
    "id": "UuRfmdeYCsW5",
    "outputId": "ae8001b5-53a6-4ee9-f3c8-498150246a55"
   },
   "outputs": [
    {
     "data": {
      "text/plain": [
       "((7210, 7), (1803, 7), (1002, 7))"
      ]
     },
     "execution_count": 15,
     "metadata": {},
     "output_type": "execute_result"
    }
   ],
   "source": [
    "y_train.shape, y_val.shape, y_test.shape"
   ]
  },
  {
   "cell_type": "markdown",
   "metadata": {
    "colab_type": "text",
    "id": "5vVaAuWtUVJU"
   },
   "source": [
    "## CNN Model"
   ]
  },
  {
   "cell_type": "code",
   "execution_count": 16,
   "metadata": {
    "colab": {},
    "colab_type": "code",
    "id": "9i2prFW67mwJ"
   },
   "outputs": [
    {
     "name": "stdout",
     "output_type": "stream",
     "text": [
      "WARNING:tensorflow:From C:\\Users\\chara_eoccfea\\AppData\\Local\\Packages\\PythonSoftwareFoundation.Python.3.11_qbz5n2kfra8p0\\LocalCache\\local-packages\\Python311\\site-packages\\keras\\src\\backend.py:1398: The name tf.executing_eagerly_outside_functions is deprecated. Please use tf.compat.v1.executing_eagerly_outside_functions instead.\n",
      "\n",
      "WARNING:tensorflow:From C:\\Users\\chara_eoccfea\\AppData\\Local\\Packages\\PythonSoftwareFoundation.Python.3.11_qbz5n2kfra8p0\\LocalCache\\local-packages\\Python311\\site-packages\\keras\\src\\layers\\pooling\\max_pooling2d.py:161: The name tf.nn.max_pool is deprecated. Please use tf.nn.max_pool2d instead.\n",
      "\n"
     ]
    }
   ],
   "source": [
    "# The input feature map has dimensions 64x64x3: 64x64 for image pixels and 3 for the three color channels: R, G, and B\n",
    "img_input = layers.Input(shape=(64, 64, 3))\n",
    "\n",
    "# The first convolutional layer extracts 16 filters of size 3x3\n",
    "# This is followed by a max-pooling layer with a 2x2 window\n",
    "x = layers.Conv2D(16, 3, activation='relu', padding='same')(img_input)\n",
    "x = layers.MaxPooling2D(2)(x)\n",
    "\n",
    "# The second convolutional layer extracts 32 filters of size 3x3\n",
    "# This is followed by a max-pooling layer with a 2x2 window\n",
    "x = layers.Conv2D(32, 3, activation='relu', padding='same')(x)\n",
    "x = layers.MaxPooling2D(2)(x)\n",
    "\n",
    "# The third convolutional layer extracts 64 filters of size 3x3\n",
    "# This is followed by a max-pooling layer with a 2x2 window\n",
    "x = layers.Convolution2D(64, 3, activation='relu', padding='same')(x)\n",
    "x = layers.MaxPooling2D(2)(x)\n",
    "\n",
    "# The feature map is flattened to a 1-dimensional tensor\n",
    "x = layers.Flatten()(x)\n",
    "\n",
    "# A fully connected layer with ReLU activation and 512 hidden units is created\n",
    "x = layers.Dense(512, activation='relu')(x)\n",
    "\n",
    "# A dropout rate of 0.5 is added\n",
    "x = layers.Dropout(0.5)(x)\n",
    "\n",
    "# The output layer with a single node and softmax activation is created\n",
    "output = layers.Dense(7, activation='softmax')(x)\n",
    "\n",
    "# The model is configured and compiled using the Adam optimizer with specified parameters\n",
    "model = Model(img_input, output)\n",
    "optimizer = Adam(learning_rate=0.001, beta_1=0.9, beta_2=0.999, epsilon=1e-7, weight_decay=0.0, amsgrad=False)\n",
    "\n",
    "model.compile(loss='categorical_crossentropy', optimizer=optimizer, metrics=['accuracy'])"
   ]
  },
  {
   "cell_type": "code",
   "execution_count": 17,
   "metadata": {
    "colab": {
     "base_uri": "https://localhost:8080/",
     "height": 518
    },
    "colab_type": "code",
    "id": "JXh46jmDA9c6",
    "outputId": "290fa9f9-c12d-4179-e6b5-9126af32f189"
   },
   "outputs": [
    {
     "name": "stdout",
     "output_type": "stream",
     "text": [
      "Model: \"model\"\n",
      "_________________________________________________________________\n",
      " Layer (type)                Output Shape              Param #   \n",
      "=================================================================\n",
      " input_1 (InputLayer)        [(None, 64, 64, 3)]       0         \n",
      "                                                                 \n",
      " conv2d (Conv2D)             (None, 64, 64, 16)        448       \n",
      "                                                                 \n",
      " max_pooling2d (MaxPooling2  (None, 32, 32, 16)        0         \n",
      " D)                                                              \n",
      "                                                                 \n",
      " conv2d_1 (Conv2D)           (None, 32, 32, 32)        4640      \n",
      "                                                                 \n",
      " max_pooling2d_1 (MaxPoolin  (None, 16, 16, 32)        0         \n",
      " g2D)                                                            \n",
      "                                                                 \n",
      " conv2d_2 (Conv2D)           (None, 16, 16, 64)        18496     \n",
      "                                                                 \n",
      " max_pooling2d_2 (MaxPoolin  (None, 8, 8, 64)          0         \n",
      " g2D)                                                            \n",
      "                                                                 \n",
      " flatten (Flatten)           (None, 4096)              0         \n",
      "                                                                 \n",
      " dense (Dense)               (None, 512)               2097664   \n",
      "                                                                 \n",
      " dropout (Dropout)           (None, 512)               0         \n",
      "                                                                 \n",
      " dense_1 (Dense)             (None, 7)                 3591      \n",
      "                                                                 \n",
      "=================================================================\n",
      "Total params: 2124839 (8.11 MB)\n",
      "Trainable params: 2124839 (8.11 MB)\n",
      "Non-trainable params: 0 (0.00 Byte)\n",
      "_________________________________________________________________\n"
     ]
    }
   ],
   "source": [
    "model.summary()"
   ]
  },
  {
   "cell_type": "markdown",
   "metadata": {
    "colab_type": "text",
    "id": "fSoYM0JEUbGT"
   },
   "source": [
    "## Define Data Generator for Data Augmentation and Learning Rate Adaptive Reduction to Prevent Overfitting"
   ]
  },
  {
   "cell_type": "code",
   "execution_count": 18,
   "metadata": {
    "colab": {},
    "colab_type": "code",
    "id": "_ITW1SFVFuHk"
   },
   "outputs": [],
   "source": [
    "train_datagen = ImageDataGenerator(rotation_range=40, width_shift_range=0.2, height_shift_range=0.2,\n",
    "                             shear_range=0.2, zoom_range=0.2, horizontal_flip=True, fill_mode='nearest')\n",
    "\n",
    "train_datagen.fit(X_train)\n",
    "\n",
    "val_datagen = ImageDataGenerator()\n",
    "val_datagen.fit(X_val)"
   ]
  },
  {
   "cell_type": "code",
   "execution_count": 19,
   "metadata": {
    "colab": {},
    "colab_type": "code",
    "id": "-FvlOkvw8GJ0"
   },
   "outputs": [],
   "source": [
    "learning_rate_reduction = ReduceLROnPlateau(monitor='val_accuracy', patience=3, verbose=1, factor=0.5, min_lr=0.00001)\n",
    "# tf.config.run_functions_eagerly(True)"
   ]
  },
  {
   "cell_type": "code",
   "execution_count": 20,
   "metadata": {
    "colab": {
     "base_uri": "https://localhost:8080/",
     "height": 1212
    },
    "colab_type": "code",
    "id": "epgliUU-_EWz",
    "outputId": "52c0a22e-7b64-40d5-ef4f-6ee75685e2af"
   },
   "outputs": [
    {
     "name": "stdout",
     "output_type": "stream",
     "text": [
      "Epoch 1/30\n",
      "WARNING:tensorflow:From C:\\Users\\chara_eoccfea\\AppData\\Local\\Packages\\PythonSoftwareFoundation.Python.3.11_qbz5n2kfra8p0\\LocalCache\\local-packages\\Python311\\site-packages\\keras\\src\\utils\\tf_utils.py:492: The name tf.ragged.RaggedTensorValue is deprecated. Please use tf.compat.v1.ragged.RaggedTensorValue instead.\n",
      "\n",
      "WARNING:tensorflow:From C:\\Users\\chara_eoccfea\\AppData\\Local\\Packages\\PythonSoftwareFoundation.Python.3.11_qbz5n2kfra8p0\\LocalCache\\local-packages\\Python311\\site-packages\\keras\\src\\engine\\base_layer_utils.py:384: The name tf.executing_eagerly_outside_functions is deprecated. Please use tf.compat.v1.executing_eagerly_outside_functions instead.\n",
      "\n",
      "112/112 [==============================] - 6s 48ms/step - loss: 0.9818 - accuracy: 0.6613 - val_loss: 0.8709 - val_accuracy: 0.6861 - lr: 0.0010\n",
      "Epoch 2/30\n",
      "112/112 [==============================] - 5s 47ms/step - loss: 0.8567 - accuracy: 0.6881 - val_loss: 0.8367 - val_accuracy: 0.7005 - lr: 0.0010\n",
      "Epoch 3/30\n",
      "112/112 [==============================] - 5s 47ms/step - loss: 0.8061 - accuracy: 0.7089 - val_loss: 0.7903 - val_accuracy: 0.7072 - lr: 0.0010\n",
      "Epoch 4/30\n",
      "112/112 [==============================] - 5s 45ms/step - loss: 0.7765 - accuracy: 0.7210 - val_loss: 0.7710 - val_accuracy: 0.7194 - lr: 0.0010\n",
      "Epoch 5/30\n",
      "112/112 [==============================] - 5s 45ms/step - loss: 0.7646 - accuracy: 0.7207 - val_loss: 0.8065 - val_accuracy: 0.6994 - lr: 0.0010\n",
      "Epoch 6/30\n",
      "112/112 [==============================] - 5s 45ms/step - loss: 0.7395 - accuracy: 0.7260 - val_loss: 0.7441 - val_accuracy: 0.7271 - lr: 0.0010\n",
      "Epoch 7/30\n",
      "112/112 [==============================] - 5s 45ms/step - loss: 0.7299 - accuracy: 0.7287 - val_loss: 0.7246 - val_accuracy: 0.7288 - lr: 0.0010\n",
      "Epoch 8/30\n",
      "112/112 [==============================] - 5s 45ms/step - loss: 0.7026 - accuracy: 0.7376 - val_loss: 0.7304 - val_accuracy: 0.7249 - lr: 0.0010\n",
      "Epoch 9/30\n",
      "112/112 [==============================] - 5s 46ms/step - loss: 0.6904 - accuracy: 0.7401 - val_loss: 0.6872 - val_accuracy: 0.7438 - lr: 0.0010\n",
      "Epoch 10/30\n",
      "112/112 [==============================] - 5s 45ms/step - loss: 0.6824 - accuracy: 0.7449 - val_loss: 0.6970 - val_accuracy: 0.7310 - lr: 0.0010\n",
      "Epoch 11/30\n",
      "112/112 [==============================] - 5s 47ms/step - loss: 0.6805 - accuracy: 0.7462 - val_loss: 0.6511 - val_accuracy: 0.7560 - lr: 0.0010\n",
      "Epoch 12/30\n",
      "112/112 [==============================] - 5s 48ms/step - loss: 0.6532 - accuracy: 0.7522 - val_loss: 0.6646 - val_accuracy: 0.7449 - lr: 0.0010\n",
      "Epoch 13/30\n",
      "112/112 [==============================] - 5s 45ms/step - loss: 0.6547 - accuracy: 0.7580 - val_loss: 0.7197 - val_accuracy: 0.7316 - lr: 0.0010\n",
      "Epoch 14/30\n",
      "112/112 [==============================] - 5s 45ms/step - loss: 0.6426 - accuracy: 0.7568 - val_loss: 0.6472 - val_accuracy: 0.7598 - lr: 0.0010\n",
      "Epoch 15/30\n",
      "112/112 [==============================] - 5s 46ms/step - loss: 0.6342 - accuracy: 0.7648 - val_loss: 0.6414 - val_accuracy: 0.7610 - lr: 0.0010\n",
      "Epoch 16/30\n",
      "112/112 [==============================] - 5s 45ms/step - loss: 0.6423 - accuracy: 0.7590 - val_loss: 0.6445 - val_accuracy: 0.7593 - lr: 0.0010\n",
      "Epoch 17/30\n",
      "112/112 [==============================] - 5s 45ms/step - loss: 0.6284 - accuracy: 0.7685 - val_loss: 0.7063 - val_accuracy: 0.7288 - lr: 0.0010\n",
      "Epoch 18/30\n",
      "112/112 [==============================] - ETA: 0s - loss: 0.6287 - accuracy: 0.7631\n",
      "Epoch 18: ReduceLROnPlateau reducing learning rate to 0.0005000000237487257.\n",
      "112/112 [==============================] - 5s 45ms/step - loss: 0.6287 - accuracy: 0.7631 - val_loss: 0.6848 - val_accuracy: 0.7582 - lr: 0.0010\n",
      "Epoch 19/30\n",
      "112/112 [==============================] - 5s 48ms/step - loss: 0.6033 - accuracy: 0.7725 - val_loss: 0.6162 - val_accuracy: 0.7637 - lr: 5.0000e-04\n",
      "Epoch 20/30\n",
      "112/112 [==============================] - 5s 47ms/step - loss: 0.5849 - accuracy: 0.7792 - val_loss: 0.6158 - val_accuracy: 0.7671 - lr: 5.0000e-04\n",
      "Epoch 21/30\n",
      "112/112 [==============================] - 5s 47ms/step - loss: 0.5800 - accuracy: 0.7761 - val_loss: 0.6416 - val_accuracy: 0.7632 - lr: 5.0000e-04\n",
      "Epoch 22/30\n",
      "112/112 [==============================] - 5s 47ms/step - loss: 0.5800 - accuracy: 0.7839 - val_loss: 0.6048 - val_accuracy: 0.7687 - lr: 5.0000e-04\n",
      "Epoch 23/30\n",
      "112/112 [==============================] - 5s 47ms/step - loss: 0.5759 - accuracy: 0.7848 - val_loss: 0.6408 - val_accuracy: 0.7587 - lr: 5.0000e-04\n",
      "Epoch 24/30\n",
      "112/112 [==============================] - 5s 47ms/step - loss: 0.5720 - accuracy: 0.7841 - val_loss: 0.6251 - val_accuracy: 0.7643 - lr: 5.0000e-04\n",
      "Epoch 25/30\n",
      "112/112 [==============================] - ETA: 0s - loss: 0.5660 - accuracy: 0.7845\n",
      "Epoch 25: ReduceLROnPlateau reducing learning rate to 0.0002500000118743628.\n",
      "112/112 [==============================] - 5s 47ms/step - loss: 0.5660 - accuracy: 0.7845 - val_loss: 0.6310 - val_accuracy: 0.7598 - lr: 5.0000e-04\n",
      "Epoch 26/30\n",
      "112/112 [==============================] - 5s 47ms/step - loss: 0.5587 - accuracy: 0.7928 - val_loss: 0.6139 - val_accuracy: 0.7693 - lr: 2.5000e-04\n",
      "Epoch 27/30\n",
      "112/112 [==============================] - 5s 47ms/step - loss: 0.5424 - accuracy: 0.7964 - val_loss: 0.6208 - val_accuracy: 0.7615 - lr: 2.5000e-04\n",
      "Epoch 28/30\n",
      "112/112 [==============================] - 6s 50ms/step - loss: 0.5422 - accuracy: 0.7964 - val_loss: 0.6351 - val_accuracy: 0.7565 - lr: 2.5000e-04\n",
      "Epoch 29/30\n",
      "112/112 [==============================] - ETA: 0s - loss: 0.5397 - accuracy: 0.7971\n",
      "Epoch 29: ReduceLROnPlateau reducing learning rate to 0.0001250000059371814.\n",
      "112/112 [==============================] - 5s 48ms/step - loss: 0.5397 - accuracy: 0.7971 - val_loss: 0.6158 - val_accuracy: 0.7637 - lr: 2.5000e-04\n",
      "Epoch 30/30\n",
      "112/112 [==============================] - 5s 47ms/step - loss: 0.5325 - accuracy: 0.8020 - val_loss: 0.6074 - val_accuracy: 0.7698 - lr: 1.2500e-04\n"
     ]
    }
   ],
   "source": [
    "batch_size = 64\n",
    "epochs = 30\n",
    "import math\n",
    "history = model.fit(\n",
    "    train_datagen.flow(X_train, y_train, batch_size=batch_size),\n",
    "    epochs=epochs,\n",
    "    validation_data=val_datagen.flow(X_val, y_val),\n",
    "    verbose=1,\n",
    "    steps_per_epoch=math.ceil(X_train.shape[0] // batch_size),\n",
    "    callbacks=[learning_rate_reduction]\n",
    ")"
   ]
  },
  {
   "cell_type": "code",
   "execution_count": 21,
   "metadata": {
    "colab": {
     "base_uri": "https://localhost:8080/",
     "height": 86
    },
    "colab_type": "code",
    "id": "pzmhcKchK3fQ",
    "outputId": "255f9bf8-d123-435d-809f-219c47922e5f"
   },
   "outputs": [
    {
     "name": "stdout",
     "output_type": "stream",
     "text": [
      "32/32 [==============================] - 0s 5ms/step - loss: 0.6372 - accuracy: 0.7665\n",
      "57/57 [==============================] - 0s 4ms/step - loss: 0.6074 - accuracy: 0.7698\n",
      "Validation: accuracy = 0.769828  ;  loss_v = 0.607403\n",
      "Test: accuracy = 0.766467  ;  loss = 0.637203\n"
     ]
    },
    {
     "name": "stderr",
     "output_type": "stream",
     "text": [
      "C:\\Users\\chara_eoccfea\\AppData\\Local\\Packages\\PythonSoftwareFoundation.Python.3.11_qbz5n2kfra8p0\\LocalCache\\local-packages\\Python311\\site-packages\\keras\\src\\engine\\training.py:3103: UserWarning: You are saving your model as an HDF5 file via `model.save()`. This file format is considered legacy. We recommend using instead the native Keras format, e.g. `model.save('my_model.keras')`.\n",
      "  saving_api.save_model(\n"
     ]
    }
   ],
   "source": [
    "loss_test, acc_test = model.evaluate(X_test, y_test, verbose=1)\n",
    "loss_val, acc_val = model.evaluate(X_val, y_val, verbose=1)\n",
    "print(\"Validation: accuracy = %f  ;  loss_v = %f\" % (acc_val, loss_val))\n",
    "print(\"Test: accuracy = %f  ;  loss = %f\" % (acc_test, loss_test))\n",
    "model.save(\"model.h5\")"
   ]
  },
  {
   "cell_type": "code",
   "execution_count": 22,
   "metadata": {
    "colab": {
     "base_uri": "https://localhost:8080/",
     "height": 560
    },
    "colab_type": "code",
    "id": "z-XsupKP_orF",
    "outputId": "69099e17-bae9-4886-c0e9-50a0c20be04a"
   },
   "outputs": [
    {
     "data": {
      "text/plain": [
       "Text(0.5, 1.0, 'Training and validation loss')"
      ]
     },
     "execution_count": 22,
     "metadata": {},
     "output_type": "execute_result"
    },
    {
     "data": {
      "image/png": "[encoded data removed]",
      "text/plain": [
       "<Figure size 640x480 with 1 Axes>"
      ]
     },
     "metadata": {},
     "output_type": "display_data"
    },
    {
     "data": {
      "image/png": "[encoded data removed]",
      "text/plain": [
       "<Figure size 640x480 with 1 Axes>"
      ]
     },
     "metadata": {},
     "output_type": "display_data"
    }
   ],
   "source": [
    "# Retrieving a list of accuracy results on training and test data\n",
    "# sets for each training epoch\n",
    "acc = history.history['accuracy']\n",
    "val_acc = history.history['val_accuracy']\n",
    "\n",
    "# Retrieving a list of list results on training and test data\n",
    "# sets for each training epoch\n",
    "loss = history.history['loss']\n",
    "val_loss = history.history['val_loss']\n",
    "\n",
    "# Getting number of epochs\n",
    "epochs = range(len(acc))\n",
    "\n",
    "# Plotting training and validation accuracy per epoch\n",
    "plt.plot(epochs, acc)\n",
    "plt.plot(epochs, val_acc)\n",
    "plt.title('Training and validation accuracy')\n",
    "\n",
    "plt.figure()\n",
    "\n",
    "# Plotting training and validation loss per epoch\n",
    "plt.plot(epochs, loss)\n",
    "plt.plot(epochs, val_loss)\n",
    "plt.title('Training and validation loss')"
   ]
  },
  {
   "cell_type": "code",
   "execution_count": null,
   "metadata": {},
   "outputs": [],
   "source": []
  }
 ],
 "metadata": {
  "accelerator": "GPU",
  "colab": {
   "name": "Baseline_CNN.ipynb",
   "provenance": [],
   "version": "0.3.2"
  },
  "kernelspec": {
   "display_name": "Python 3",
   "language": "python",
   "name": "python3"
  },
  "language_info": {
   "codemirror_mode": {
    "name": "ipython",
    "version": 3
   },
   "file_extension": ".py",
   "mimetype": "text/x-python",
   "name": "python",
   "nbconvert_exporter": "python",
   "pygments_lexer": "ipython3",
   "version": "3.10.13"
  }
 },
 "nbformat": 4,
 "nbformat_minor": 1
}
